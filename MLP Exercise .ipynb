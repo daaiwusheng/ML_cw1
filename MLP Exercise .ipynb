{
 "cells": [
  {
   "cell_type": "markdown",
   "metadata": {},
   "source": [
    "### Multi-layer Perceptron Exercise\n",
    "#### In this exercise, we will implement the multi-perceptron algorithm with two hidden layers. \n",
    "#### The implementation of the MLP algorithm will be in the mlp.py file but you will test your implementation \n",
    "#### in this notebook. In this exercise we will use the MNIST dataset that we used for week 2 lab (KNN). "
   ]
  },
  {
   "cell_type": "code",
   "execution_count": 34,
   "metadata": {},
   "outputs": [
    {
     "name": "stdout",
     "output_type": "stream",
     "text": [
      "The autoreload extension is already loaded. To reload it, use:\n",
      "  %reload_ext autoreload\n"
     ]
    }
   ],
   "source": [
    "# importing the MLP algorithm from mlp.py file \n",
    "# where you will implement the MLP algorithm \n",
    "from mlp import MLP \n",
    "import numpy as np\n",
    "\n",
    "# This is to reload all changed modules every time before executing a new line.\n",
    "# https://stackoverflow.com/questions/5364050/reloading-submodules-in-ipython\n",
    "%load_ext autoreload\n",
    "%autoreload 2"
   ]
  },
  {
   "cell_type": "code",
   "execution_count": 35,
   "metadata": {},
   "outputs": [
    {
     "name": "stdout",
     "output_type": "stream",
     "text": [
      "(50000, 784) (10000, 784) (10000, 784)\n"
     ]
    }
   ],
   "source": [
    "# loading the MNIST datatset\n",
    "import pickle, gzip\n",
    "\n",
    "f = gzip.open('../data/mnist.pkl.gz','rb')\n",
    "tset, vset, teset = pickle.load(f, encoding='latin1')\n",
    "print(tset[0].shape, vset[0].shape, teset[0].shape)\n",
    "f.close()"
   ]
  },
  {
   "cell_type": "code",
   "execution_count": 36,
   "metadata": {},
   "outputs": [
    {
     "data": {
      "image/png": "[encoded data removed]",
      "text/plain": [
       "<Figure size 432x288 with 10 Axes>"
      ]
     },
     "metadata": {
      "needs_background": "light"
     },
     "output_type": "display_data"
    }
   ],
   "source": [
    "import matplotlib.pyplot as plt # To install: pip install matplotlib\n",
    "\n",
    "# visualise some examples from the dataset \n",
    "fig, ax = plt.subplots(2,5)\n",
    "for i, ax in enumerate(ax.flatten()):\n",
    "#     im_idx = np.argwhere(teset[1] == i)[0]\n",
    "    plottable_image = np.reshape(tset[0][i], (28, 28))\n",
    "    ax.imshow(plottable_image, cmap='gray_r')"
   ]
  },
  {
   "cell_type": "code",
   "execution_count": 37,
   "metadata": {},
   "outputs": [
    {
     "name": "stdout",
     "output_type": "stream",
     "text": [
      "[[0. 0. 0. ... 0. 0. 0.]\n",
      " [0. 0. 0. ... 0. 0. 0.]\n",
      " [0. 0. 0. ... 0. 0. 0.]\n",
      " ...\n",
      " [0. 0. 0. ... 0. 0. 0.]\n",
      " [0. 0. 0. ... 0. 0. 0.]\n",
      " [0. 0. 0. ... 0. 0. 0.]]\n",
      "[[0. 0. 0. ... 0. 0. 0.]\n",
      " [1. 0. 0. ... 0. 0. 0.]\n",
      " [0. 0. 0. ... 0. 0. 0.]\n",
      " ...\n",
      " [0. 0. 1. ... 0. 0. 0.]\n",
      " [0. 0. 0. ... 0. 0. 1.]\n",
      " [0. 0. 0. ... 0. 0. 1.]]\n"
     ]
    }
   ],
   "source": [
    "# we will use only 9000 images for training and 1000 for testing \n",
    "\n",
    "# Just use the first 9000 images for training \n",
    "tread = 9000\n",
    "train_in = tset[0][:tread,:]\n",
    "\n",
    "# This is a little bit of work -- 1 of N encoding\n",
    "# Make sure you understand how it does it\n",
    "train_tgt = np.zeros((tread,10))\n",
    "for i in range(tread):\n",
    "    train_tgt[i,tset[1][i]] = 1\n",
    "\n",
    "# and use 1000 images for testing\n",
    "teread = 1000\n",
    "test_in = teset[0][:teread,:]\n",
    "test_tgt = np.zeros((teread,10))\n",
    "for i in range(teread):\n",
    "    test_tgt[i,teset[1][i]] = 1\n",
    "    \n",
    "print(train_in)\n",
    "print(train_tgt)"
   ]
  },
  {
   "cell_type": "markdown",
   "metadata": {},
   "source": [
    "#### Initialise the MLP classifier "
   ]
  },
  {
   "cell_type": "code",
   "execution_count": 38,
   "metadata": {},
   "outputs": [],
   "source": [
    "# We choose the first and second hidden layers to have 5 neurons each.\n",
    "sizes = [784,5,5,10] # 784 is the number of pixels of the images and 10 is the number of classes \n",
    "classifier = MLP(sizes)"
   ]
  },
  {
   "cell_type": "code",
   "execution_count": 39,
   "metadata": {},
   "outputs": [
    {
     "name": "stdout",
     "output_type": "stream",
     "text": [
      "Iteration:  0  Error:  4083.6299791978686\n",
      "Iteration:  100  Error:  4044.929712888013\n",
      "Iteration:  200  Error:  4037.9758529627575\n",
      "Iteration:  300  Error:  4029.18867337419\n",
      "Iteration:  400  Error:  4013.9782668734215\n",
      "Iteration:  500  Error:  3984.9870892834565\n",
      "Iteration:  600  Error:  3925.2203312506786\n",
      "Iteration:  700  Error:  3793.862388742901\n",
      "Iteration:  800  Error:  3575.689557017943\n",
      "Iteration:  900  Error:  3364.2848569862344\n"
     ]
    }
   ],
   "source": [
    "# TODO: open the mlp.py file and implement self.forwardPass and self.train methods\n",
    "# test your implementation here \n",
    "# for now, let's keep the learning rate and the number of iterations unchanged  \n",
    "classifier.train(train_in, train_tgt, 0.1, 1000)"
   ]
  },
  {
   "cell_type": "code",
   "execution_count": 40,
   "metadata": {},
   "outputs": [
    {
     "name": "stdout",
     "output_type": "stream",
     "text": [
      "The confusion matrix is:\n",
      "[[  3.   0.   0.   0.   0.   2.   0.   0.   0.   0.]\n",
      " [  0. 124.  24.   5.   1.   2.   0.   8.   6.   1.]\n",
      " [  0.   0.   0.   0.   0.   0.   0.   0.   0.   0.]\n",
      " [  0.   0.   0.   0.   0.   0.   0.   0.   0.   0.]\n",
      " [ 16.   0.  32.   7.  98.  19.   2.   5.  32.  65.]\n",
      " [  0.   0.   0.   0.   0.   0.   0.   0.   0.   0.]\n",
      " [  1.   2.  33.   6.   8.   5.  82.   1.   7.   0.]\n",
      " [ 65.   0.  27.  89.   3.  59.   3.  85.  44.  28.]\n",
      " [  0.   0.   0.   0.   0.   0.   0.   0.   0.   0.]\n",
      " [  0.   0.   0.   0.   0.   0.   0.   0.   0.   0.]]\n",
      "The accuracy is  39.2\n"
     ]
    },
    {
     "data": {
      "text/plain": [
       "array([[  3.,   0.,   0.,   0.,   0.,   2.,   0.,   0.,   0.,   0.],\n",
       "       [  0., 124.,  24.,   5.,   1.,   2.,   0.,   8.,   6.,   1.],\n",
       "       [  0.,   0.,   0.,   0.,   0.,   0.,   0.,   0.,   0.,   0.],\n",
       "       [  0.,   0.,   0.,   0.,   0.,   0.,   0.,   0.,   0.,   0.],\n",
       "       [ 16.,   0.,  32.,   7.,  98.,  19.,   2.,   5.,  32.,  65.],\n",
       "       [  0.,   0.,   0.,   0.,   0.,   0.,   0.,   0.,   0.,   0.],\n",
       "       [  1.,   2.,  33.,   6.,   8.,   5.,  82.,   1.,   7.,   0.],\n",
       "       [ 65.,   0.,  27.,  89.,   3.,  59.,   3.,  85.,  44.,  28.],\n",
       "       [  0.,   0.,   0.,   0.,   0.,   0.,   0.,   0.,   0.,   0.],\n",
       "       [  0.,   0.,   0.,   0.,   0.,   0.,   0.,   0.,   0.,   0.]])"
      ]
     },
     "execution_count": 40,
     "metadata": {},
     "output_type": "execute_result"
    }
   ],
   "source": [
    "# we evaluate our model on the testing set \n",
    "# and show the confusion matrix and the accuracy\n",
    "classifier.evaluate(test_in, test_tgt)"
   ]
  },
  {
   "cell_type": "code",
   "execution_count": null,
   "metadata": {},
   "outputs": [],
   "source": [
    "# you should expect the accuracy to be really low ~ most likely less than %50\n",
    "# I think we can do better by experimenting with different learning rate and \n",
    "# number of neurons in each hidden layer. "
   ]
  },
  {
   "cell_type": "code",
   "execution_count": null,
   "metadata": {},
   "outputs": [],
   "source": [
    "# TODO: modify the network parameters to get the test accuracy above %90 \n",
    "# you can change the learning rate, the number of neurons of each hidden layer\n",
    "# and number of iterations. You can also implement the gradient descent algorithm\n",
    "# with momentum and experiment it with different momentum values. "
   ]
  },
  {
   "cell_type": "code",
   "execution_count": 41,
   "metadata": {},
   "outputs": [
    {
     "name": "stdout",
     "output_type": "stream",
     "text": [
      "Iteration:  0  Error:  4096.074890106358\n",
      "Iteration:  100  Error:  3933.453402548747\n",
      "Iteration:  200  Error:  3685.309326083922\n",
      "Iteration:  300  Error:  3250.262700823906\n",
      "Iteration:  400  Error:  2772.363974956492\n",
      "Iteration:  500  Error:  2413.5603062532505\n",
      "Iteration:  600  Error:  2123.025552770171\n",
      "Iteration:  700  Error:  1860.728161543908\n",
      "Iteration:  800  Error:  1625.0783483346272\n",
      "Iteration:  900  Error:  1420.4929619550364\n",
      "Iteration:  1000  Error:  1249.4913824528671\n",
      "Iteration:  1100  Error:  1104.3649490446974\n",
      "Iteration:  1200  Error:  976.3972469090138\n",
      "Iteration:  1300  Error:  868.1027915368905\n",
      "Iteration:  1400  Error:  781.3183657518027\n",
      "Iteration:  1500  Error:  713.2316194548283\n",
      "Iteration:  1600  Error:  659.2054402916186\n",
      "Iteration:  1700  Error:  615.2458781954333\n",
      "Iteration:  1800  Error:  578.5074738470887\n",
      "Iteration:  1900  Error:  547.0551460553144\n",
      "Iteration:  2000  Error:  519.5678427693128\n",
      "Iteration:  2100  Error:  495.1288824888089\n",
      "Iteration:  2200  Error:  473.08836449883245\n",
      "Iteration:  2300  Error:  452.9788378853836\n",
      "Iteration:  2400  Error:  434.47142228916215\n",
      "Iteration:  2500  Error:  417.33929584607625\n",
      "Iteration:  2600  Error:  401.41339583179916\n",
      "Iteration:  2700  Error:  386.55609386686757\n",
      "Iteration:  2800  Error:  372.6534961171311\n",
      "Iteration:  2900  Error:  359.60919188148097\n",
      "Iteration:  3000  Error:  347.3434989582583\n",
      "Iteration:  3100  Error:  335.8014813028977\n",
      "Iteration:  3200  Error:  324.94764368754426\n",
      "Iteration:  3300  Error:  314.74109433076865\n",
      "Iteration:  3400  Error:  305.1291936765602\n",
      "Iteration:  3500  Error:  296.0563237819626\n",
      "Iteration:  3600  Error:  287.4700582664934\n",
      "Iteration:  3700  Error:  279.32462114695\n",
      "Iteration:  3800  Error:  271.58188062889417\n",
      "Iteration:  3900  Error:  264.2097094822375\n",
      "Iteration:  4000  Error:  257.17937346333684\n",
      "Iteration:  4100  Error:  250.46388806277548\n",
      "Iteration:  4200  Error:  244.03787160996967\n",
      "Iteration:  4300  Error:  237.8783671233802\n",
      "Iteration:  4400  Error:  231.96574751085382\n",
      "Iteration:  4500  Error:  226.28373822617493\n",
      "Iteration:  4600  Error:  220.81838069085683\n",
      "Iteration:  4700  Error:  215.55715612088184\n",
      "Iteration:  4800  Error:  210.48892996823594\n",
      "Iteration:  4900  Error:  205.6034417290928\n",
      "Iteration:  5000  Error:  200.8903450015511\n",
      "Iteration:  5100  Error:  196.33973294449794\n",
      "Iteration:  5200  Error:  191.94387591894508\n",
      "Iteration:  5300  Error:  187.69790261977965\n",
      "Iteration:  5400  Error:  183.5986222912122\n",
      "Iteration:  5500  Error:  179.64267282356928\n",
      "Iteration:  5600  Error:  175.82538651184137\n",
      "Iteration:  5700  Error:  172.14067683994747\n",
      "Iteration:  5800  Error:  168.58136310790252\n",
      "Iteration:  5900  Error:  165.13942056779314\n",
      "Iteration:  6000  Error:  161.80617393949305\n",
      "Iteration:  6100  Error:  158.57269356503514\n",
      "Iteration:  6200  Error:  155.4305573684733\n",
      "Iteration:  6300  Error:  152.3729673849666\n",
      "Iteration:  6400  Error:  149.3957744739783\n",
      "Iteration:  6500  Error:  146.49729498918413\n",
      "Iteration:  6600  Error:  143.676403670065\n",
      "Iteration:  6700  Error:  140.93077151172565\n",
      "Iteration:  6800  Error:  138.25784720096811\n",
      "Iteration:  6900  Error:  135.6582497357415\n",
      "Iteration:  7000  Error:  133.13694564122198\n",
      "Iteration:  7100  Error:  130.69898313173903\n",
      "Iteration:  7200  Error:  128.34455062015198\n",
      "Iteration:  7300  Error:  126.06884959798136\n",
      "Iteration:  7400  Error:  123.8650092771545\n",
      "Iteration:  7500  Error:  121.72634651962457\n",
      "Iteration:  7600  Error:  119.64734601590617\n",
      "Iteration:  7700  Error:  117.6239301446627\n",
      "Iteration:  7800  Error:  115.65334351434721\n",
      "Iteration:  7900  Error:  113.73385696178687\n",
      "Iteration:  8000  Error:  111.86447251887991\n",
      "Iteration:  8100  Error:  110.0446737988439\n",
      "Iteration:  8200  Error:  108.2741760014224\n",
      "Iteration:  8300  Error:  106.55265820251212\n",
      "Iteration:  8400  Error:  104.87948792082526\n",
      "Iteration:  8500  Error:  103.25351397775951\n",
      "Iteration:  8600  Error:  101.67313479938508\n",
      "Iteration:  8700  Error:  100.13680548852763\n",
      "Iteration:  8800  Error:  98.64379037497389\n",
      "Iteration:  8900  Error:  97.19456030492103\n",
      "Iteration:  9000  Error:  95.79031629889367\n",
      "Iteration:  9100  Error:  94.4319329295515\n",
      "Iteration:  9200  Error:  93.11922600130873\n",
      "Iteration:  9300  Error:  91.85096403759846\n",
      "Iteration:  9400  Error:  90.62528427391102\n",
      "Iteration:  9500  Error:  89.4400630223688\n",
      "Iteration:  9600  Error:  88.29308447401488\n",
      "Iteration:  9700  Error:  87.18208022380955\n",
      "Iteration:  9800  Error:  86.1047479390113\n",
      "Iteration:  9900  Error:  85.05879235944988\n",
      "Iteration:  10000  Error:  84.0419776487196\n",
      "Iteration:  10100  Error:  83.05216800163979\n",
      "Iteration:  10200  Error:  82.08733902952994\n",
      "Iteration:  10300  Error:  81.14554812499557\n",
      "Iteration:  10400  Error:  80.22486060968635\n",
      "Iteration:  10500  Error:  79.32325050592908\n",
      "Iteration:  10600  Error:  78.43854028914369\n",
      "Iteration:  10700  Error:  77.56851786327161\n",
      "Iteration:  10800  Error:  76.71143675698796\n",
      "Iteration:  10900  Error:  75.86697455538801\n",
      "Iteration:  11000  Error:  75.03704525874855\n",
      "Iteration:  11100  Error:  74.22512676934522\n",
      "Iteration:  11200  Error:  73.43400211934917\n",
      "Iteration:  11300  Error:  72.66409901572862\n",
      "Iteration:  11400  Error:  71.91366469394237\n",
      "Iteration:  11500  Error:  71.17972180333979\n",
      "Iteration:  11600  Error:  70.4587677775309\n",
      "Iteration:  11700  Error:  69.74711947491741\n",
      "Iteration:  11800  Error:  69.04126463405629\n",
      "Iteration:  11900  Error:  68.33867837446573\n",
      "Iteration:  12000  Error:  67.63901629530012\n",
      "Iteration:  12100  Error:  66.94404929024368\n",
      "Iteration:  12200  Error:  66.25516350040026\n",
      "Iteration:  12300  Error:  65.5712373365969\n",
      "Iteration:  12400  Error:  64.8894173560964\n",
      "Iteration:  12500  Error:  64.2077327639889\n",
      "Iteration:  12600  Error:  63.52763732687177\n",
      "Iteration:  12700  Error:  62.853359714978176\n",
      "Iteration:  12800  Error:  62.18796842890991\n",
      "Iteration:  12900  Error:  61.5319954245176\n",
      "Iteration:  13000  Error:  60.88536759136235\n",
      "Iteration:  13100  Error:  60.248860884470226\n",
      "Iteration:  13200  Error:  59.62409581448142\n",
      "Iteration:  13300  Error:  59.012845520545824\n",
      "Iteration:  13400  Error:  58.41629208416049\n",
      "Iteration:  13500  Error:  57.83459527629421\n",
      "Iteration:  13600  Error:  57.26688749937543\n",
      "Iteration:  13700  Error:  56.711541199478546\n",
      "Iteration:  13800  Error:  56.166502254594064\n",
      "Iteration:  13900  Error:  55.62962329365983\n",
      "Iteration:  14000  Error:  55.09904946060758\n",
      "Iteration:  14100  Error:  54.57366702580882\n",
      "Iteration:  14200  Error:  54.05342522546485\n",
      "Iteration:  14300  Error:  53.539258268170414\n",
      "Iteration:  14400  Error:  53.03273393712586\n",
      "Iteration:  14500  Error:  52.53598339692708\n",
      "Iteration:  14600  Error:  52.05185173608696\n",
      "Iteration:  14700  Error:  51.583248620848444\n",
      "Iteration:  14800  Error:  51.13170385261759\n",
      "Iteration:  14900  Error:  50.69676384410802\n",
      "Iteration:  15000  Error:  50.276717826705514\n",
      "Iteration:  15100  Error:  49.86956965403181\n",
      "Iteration:  15200  Error:  49.47356098577514\n",
      "Iteration:  15300  Error:  49.08730404891441\n",
      "Iteration:  15400  Error:  48.70974561473086\n",
      "Iteration:  15500  Error:  48.34009110806648\n",
      "Iteration:  15600  Error:  47.9777348568949\n",
      "Iteration:  15700  Error:  47.62220492829166\n",
      "Iteration:  15800  Error:  47.27311890036484\n",
      "Iteration:  15900  Error:  46.93014566252661\n",
      "Iteration:  16000  Error:  46.59297079082406\n",
      "Iteration:  16100  Error:  46.26126539052794\n",
      "Iteration:  16200  Error:  45.93465880816481\n",
      "Iteration:  16300  Error:  45.6127146361433\n",
      "Iteration:  16400  Error:  45.29490876712305\n",
      "Iteration:  16500  Error:  44.98061012081791\n",
      "Iteration:  16600  Error:  44.66907122928679\n",
      "Iteration:  16700  Error:  44.35944918713237\n",
      "Iteration:  16800  Error:  44.0508969226695\n",
      "Iteration:  16900  Error:  43.74277541583278\n",
      "Iteration:  17000  Error:  43.434989766572315\n",
      "Iteration:  17100  Error:  43.128285654658015\n",
      "Iteration:  17200  Error:  42.82416241023122\n",
      "Iteration:  17300  Error:  42.52423909796699\n",
      "Iteration:  17400  Error:  42.22947675097201\n",
      "Iteration:  17500  Error:  41.939833977958415\n",
      "Iteration:  17600  Error:  41.65444308896344\n",
      "Iteration:  17700  Error:  41.37202134389107\n",
      "Iteration:  17800  Error:  41.09131901539692\n",
      "Iteration:  17900  Error:  40.81156792861716\n",
      "Iteration:  18000  Error:  40.53284175475325\n",
      "Iteration:  18100  Error:  40.25606484584292\n",
      "Iteration:  18200  Error:  39.98249701869669\n",
      "Iteration:  18300  Error:  39.712990020693255\n"
     ]
    },
    {
     "name": "stdout",
     "output_type": "stream",
     "text": [
      "Iteration:  18400  Error:  39.447518790507075\n",
      "Iteration:  18500  Error:  39.18509668844961\n",
      "Iteration:  18600  Error:  38.9237886144558\n",
      "Iteration:  18700  Error:  38.660497915953115\n",
      "Iteration:  18800  Error:  38.39027406173157\n",
      "Iteration:  18900  Error:  38.1050137578129\n",
      "Iteration:  19000  Error:  37.792898981091035\n",
      "Iteration:  19100  Error:  37.44661857046092\n",
      "Iteration:  19200  Error:  37.08507712066787\n",
      "Iteration:  19300  Error:  36.73975380936122\n",
      "Iteration:  19400  Error:  36.41540248751669\n",
      "Iteration:  19500  Error:  36.10190722013797\n",
      "Iteration:  19600  Error:  35.79106153225592\n",
      "Iteration:  19700  Error:  35.47925097170163\n",
      "Iteration:  19800  Error:  35.167942701256706\n",
      "Iteration:  19900  Error:  34.8613977804182\n",
      "The confusion matrix is:\n",
      "[[ 82.   0.   2.   1.   0.   1.   3.   0.   0.   0.]\n",
      " [  0. 124.   0.   0.   0.   0.   0.   3.   0.   0.]\n",
      " [  1.   0. 107.   2.   2.   0.   0.   4.   3.   0.]\n",
      " [  0.   0.   0.  97.   0.   1.   0.   0.   2.   0.]\n",
      " [  0.   0.   1.   0. 104.   0.   2.   1.   1.   3.]\n",
      " [  1.   0.   0.   4.   0.  81.   0.   0.   2.   1.]\n",
      " [  1.   1.   1.   1.   0.   1.  82.   0.   0.   0.]\n",
      " [  0.   0.   3.   1.   0.   0.   0.  91.   0.   2.]\n",
      " [  0.   1.   2.   1.   0.   2.   0.   0.  80.   3.]\n",
      " [  0.   0.   0.   0.   4.   1.   0.   0.   1.  85.]]\n",
      "The accuracy is  93.30000000000001\n"
     ]
    },
    {
     "data": {
      "text/plain": [
       "array([[ 82.,   0.,   2.,   1.,   0.,   1.,   3.,   0.,   0.,   0.],\n",
       "       [  0., 124.,   0.,   0.,   0.,   0.,   0.,   3.,   0.,   0.],\n",
       "       [  1.,   0., 107.,   2.,   2.,   0.,   0.,   4.,   3.,   0.],\n",
       "       [  0.,   0.,   0.,  97.,   0.,   1.,   0.,   0.,   2.,   0.],\n",
       "       [  0.,   0.,   1.,   0., 104.,   0.,   2.,   1.,   1.,   3.],\n",
       "       [  1.,   0.,   0.,   4.,   0.,  81.,   0.,   0.,   2.,   1.],\n",
       "       [  1.,   1.,   1.,   1.,   0.,   1.,  82.,   0.,   0.,   0.],\n",
       "       [  0.,   0.,   3.,   1.,   0.,   0.,   0.,  91.,   0.,   2.],\n",
       "       [  0.,   1.,   2.,   1.,   0.,   2.,   0.,   0.,  80.,   3.],\n",
       "       [  0.,   0.,   0.,   0.,   4.,   1.,   0.,   0.,   1.,  85.]])"
      ]
     },
     "execution_count": 41,
     "metadata": {},
     "output_type": "execute_result"
    }
   ],
   "source": [
    "best_sizes = [784,40,30,10]\n",
    "best_beta = 5\n",
    "best_momentum = 0.9\n",
    "best_lr = 0.012 # best learning rate\n",
    "best_niterations = 20000\n",
    "best_classifier = MLP(sizes = best_sizes, beta=best_beta, momentum=best_momentum)\n",
    "best_classifier.train(train_in, train_tgt, best_lr, best_niterations)\n",
    "best_classifier.evaluate(test_in, test_tgt)"
   ]
  },
  {
   "cell_type": "code",
   "execution_count": 42,
   "metadata": {},
   "outputs": [],
   "source": [
    "# TODO: run the following code to save the best parameters and \n",
    "# the weights of the network that achieves the desired accuracy\n",
    "best_parameters = {\n",
    "    'sizes': best_sizes,\n",
    "    'beta': best_beta,\n",
    "    'momentum': best_momentum,\n",
    "    'lr': best_lr,\n",
    "    'niterations': best_niterations,\n",
    "    'weights_1': best_classifier.weights1,\n",
    "    'weights_2': best_classifier.weights2,\n",
    "    'weights_3': best_classifier.weights3,\n",
    "}\n",
    "\n",
    "with open('best_classifier.pkl', 'wb') as handle:\n",
    "    pickle.dump(best_parameters, handle, protocol=pickle.HIGHEST_PROTOCOL)"
   ]
  }
 ],
 "metadata": {
  "kernelspec": {
   "display_name": "Python 3",
   "language": "python",
   "name": "python3"
  },
  "language_info": {
   "codemirror_mode": {
    "name": "ipython",
    "version": 3
   },
   "file_extension": ".py",
   "mimetype": "text/x-python",
   "name": "python",
   "nbconvert_exporter": "python",
   "pygments_lexer": "ipython3",
   "version": "3.8.5"
  }
 },
 "nbformat": 4,
 "nbformat_minor": 4
}
