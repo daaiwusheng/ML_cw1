{
 "cells": [
  {
   "cell_type": "markdown",
   "metadata": {},
   "source": [
    "### Multi-layer Perceptron Exercise\n",
    "#### In this exercise, we will implement the multi-perceptron algorithm with two hidden layers. \n",
    "#### The implementation of the MLP algorithm will be in the mlp.py file but you will test your implementation \n",
    "#### in this notebook. In this exercise we will use the MNIST dataset that we used for week 2 lab (KNN). "
   ]
  },
  {
   "cell_type": "code",
   "execution_count": 16,
   "metadata": {},
   "outputs": [
    {
     "name": "stdout",
     "output_type": "stream",
     "text": [
      "The autoreload extension is already loaded. To reload it, use:\n",
      "  %reload_ext autoreload\n"
     ]
    }
   ],
   "source": [
    "# importing the MLP algorithm from mlp.py file \n",
    "# where you will implement the MLP algorithm \n",
    "from mlp import MLP \n",
    "import numpy as np\n",
    "\n",
    "# This is to reload all changed modules every time before executing a new line.\n",
    "# https://stackoverflow.com/questions/5364050/reloading-submodules-in-ipython\n",
    "%load_ext autoreload\n",
    "%autoreload 2"
   ]
  },
  {
   "cell_type": "code",
   "execution_count": 17,
   "metadata": {},
   "outputs": [
    {
     "name": "stdout",
     "output_type": "stream",
     "text": [
      "(50000, 784) (10000, 784) (10000, 784)\n"
     ]
    }
   ],
   "source": [
    "# loading the MNIST datatset\n",
    "import pickle, gzip\n",
    "\n",
    "f = gzip.open('../data/mnist.pkl.gz','rb')\n",
    "tset, vset, teset = pickle.load(f, encoding='latin1')\n",
    "print(tset[0].shape, vset[0].shape, teset[0].shape)\n",
    "f.close()"
   ]
  },
  {
   "cell_type": "code",
   "execution_count": 35,
   "metadata": {},
   "outputs": [
    {
     "data": {
      "image/png": "[encoded data removed]",
      "text/plain": [
       "<Figure size 432x288 with 10 Axes>"
      ]
     },
     "metadata": {
      "needs_background": "light"
     },
     "output_type": "display_data"
    }
   ],
   "source": [
    "import matplotlib.pyplot as plt # To install: pip install matplotlib\n",
    "\n",
    "# visualise some examples from the dataset \n",
    "fig, ax = plt.subplots(2,5)\n",
    "for i, ax in enumerate(ax.flatten()):\n",
    "#     im_idx = np.argwhere(teset[1] == i)[0]\n",
    "    plottable_image = np.reshape(tset[0][i], (28, 28))\n",
    "    ax.imshow(plottable_image, cmap='gray_r')"
   ]
  },
  {
   "cell_type": "code",
   "execution_count": 48,
   "metadata": {},
   "outputs": [
    {
     "name": "stdout",
     "output_type": "stream",
     "text": [
      "[[0. 0. 0. ... 0. 0. 0.]\n",
      " [0. 0. 0. ... 0. 0. 0.]\n",
      " [0. 0. 0. ... 0. 0. 0.]\n",
      " ...\n",
      " [0. 0. 0. ... 0. 0. 0.]\n",
      " [0. 0. 0. ... 0. 0. 0.]\n",
      " [0. 0. 0. ... 0. 0. 0.]]\n",
      "[[0. 0. 0. ... 0. 0. 0.]\n",
      " [1. 0. 0. ... 0. 0. 0.]\n",
      " [0. 0. 0. ... 0. 0. 0.]\n",
      " ...\n",
      " [0. 0. 1. ... 0. 0. 0.]\n",
      " [0. 0. 0. ... 0. 0. 1.]\n",
      " [0. 0. 0. ... 0. 0. 1.]]\n"
     ]
    }
   ],
   "source": [
    "# we will use only 9000 images for training and 1000 for testing \n",
    "\n",
    "# Just use the first 9000 images for training \n",
    "tread = 9000\n",
    "train_in = tset[0][:tread,:]\n",
    "\n",
    "# This is a little bit of work -- 1 of N encoding\n",
    "# Make sure you understand how it does it\n",
    "train_tgt = np.zeros((tread,10))\n",
    "for i in range(tread):\n",
    "    train_tgt[i,tset[1][i]] = 1\n",
    "\n",
    "# and use 1000 images for testing\n",
    "teread = 1000\n",
    "test_in = teset[0][:teread,:]\n",
    "test_tgt = np.zeros((teread,10))\n",
    "for i in range(teread):\n",
    "    test_tgt[i,teset[1][i]] = 1\n",
    "    \n",
    "print(train_in)\n",
    "print(train_tgt)"
   ]
  },
  {
   "cell_type": "markdown",
   "metadata": {},
   "source": [
    "#### Initialise the MLP classifier "
   ]
  },
  {
   "cell_type": "code",
   "execution_count": 49,
   "metadata": {},
   "outputs": [],
   "source": [
    "# We choose the first and second hidden layers to have 5 neurons each.\n",
    "sizes = [784,5,5,10] # 784 is the number of pixels of the images and 10 is the number of classes \n",
    "classifier = MLP(sizes)"
   ]
  },
  {
   "cell_type": "code",
   "execution_count": 50,
   "metadata": {},
   "outputs": [
    {
     "name": "stdout",
     "output_type": "stream",
     "text": [
      "Iteration:  0  Error:  4095.0724846166563\n",
      "Iteration:  100  Error:  4052.9489631159704\n",
      "Iteration:  200  Error:  4037.049470508421\n",
      "Iteration:  300  Error:  4023.5528551809994\n",
      "Iteration:  400  Error:  4000.168170027255\n",
      "Iteration:  500  Error:  3961.4134661419066\n",
      "Iteration:  600  Error:  3908.3418805248384\n",
      "Iteration:  700  Error:  3849.439450625232\n",
      "Iteration:  800  Error:  3788.357907107344\n",
      "Iteration:  900  Error:  3724.6965714042904\n"
     ]
    }
   ],
   "source": [
    "# TODO: open the mlp.py file and implement self.forwardPass and self.train methods\n",
    "# test your implementation here \n",
    "# for now, let's keep the learning rate and the number of iterations unchanged  \n",
    "classifier.train(train_in, train_tgt, 0.1, 1000)"
   ]
  },
  {
   "cell_type": "code",
   "execution_count": 51,
   "metadata": {},
   "outputs": [
    {
     "name": "stdout",
     "output_type": "stream",
     "text": [
      "The confusion matrix is:\n",
      "[[ 85.   2.  95.  89.  41.  57.  83.   1.  44.   6.]\n",
      " [  0.   9.   2.   6.  16.   6.   2.   1.   7.  18.]\n",
      " [  0.   0.   0.   0.   0.   0.   0.   0.   0.   0.]\n",
      " [  0.   0.   0.   0.   0.   0.   0.   0.   0.   0.]\n",
      " [  0.   0.   0.   0.   0.   0.   0.   0.   0.   0.]\n",
      " [  0.   0.   0.   0.   0.   0.   0.   0.   0.   0.]\n",
      " [  0.   3.   6.   5.  23.   5.   2.   1.  25.   9.]\n",
      " [  0. 112.  13.   7.  30.  19.   0.  96.  13.  61.]\n",
      " [  0.   0.   0.   0.   0.   0.   0.   0.   0.   0.]\n",
      " [  0.   0.   0.   0.   0.   0.   0.   0.   0.   0.]]\n",
      "The accuracy is  19.2\n"
     ]
    },
    {
     "data": {
      "text/plain": [
       "array([[ 85.,   2.,  95.,  89.,  41.,  57.,  83.,   1.,  44.,   6.],\n",
       "       [  0.,   9.,   2.,   6.,  16.,   6.,   2.,   1.,   7.,  18.],\n",
       "       [  0.,   0.,   0.,   0.,   0.,   0.,   0.,   0.,   0.,   0.],\n",
       "       [  0.,   0.,   0.,   0.,   0.,   0.,   0.,   0.,   0.,   0.],\n",
       "       [  0.,   0.,   0.,   0.,   0.,   0.,   0.,   0.,   0.,   0.],\n",
       "       [  0.,   0.,   0.,   0.,   0.,   0.,   0.,   0.,   0.,   0.],\n",
       "       [  0.,   3.,   6.,   5.,  23.,   5.,   2.,   1.,  25.,   9.],\n",
       "       [  0., 112.,  13.,   7.,  30.,  19.,   0.,  96.,  13.,  61.],\n",
       "       [  0.,   0.,   0.,   0.,   0.,   0.,   0.,   0.,   0.,   0.],\n",
       "       [  0.,   0.,   0.,   0.,   0.,   0.,   0.,   0.,   0.,   0.]])"
      ]
     },
     "execution_count": 51,
     "metadata": {},
     "output_type": "execute_result"
    }
   ],
   "source": [
    "# we evaluate our model on the testing set \n",
    "# and show the confusion matrix and the accuracy\n",
    "classifier.evaluate(test_in, test_tgt)"
   ]
  },
  {
   "cell_type": "code",
   "execution_count": null,
   "metadata": {},
   "outputs": [],
   "source": [
    "# you should expect the accuracy to be really low ~ most likely less than %50\n",
    "# I think we can do better by experimenting with different learning rate and \n",
    "# number of neurons in each hidden layer. "
   ]
  },
  {
   "cell_type": "code",
   "execution_count": null,
   "metadata": {},
   "outputs": [],
   "source": [
    "# TODO: modify the network parameters to get the test accuracy above %90 \n",
    "# you can change the learning rate, the number of neurons of each hidden layer\n",
    "# and number of iterations. You can also implement the gradient descent algorithm\n",
    "# with momentum and experiment it with different momentum values. "
   ]
  },
  {
   "cell_type": "code",
   "execution_count": 53,
   "metadata": {},
   "outputs": [
    {
     "name": "stdout",
     "output_type": "stream",
     "text": [
      "Iteration:  0  Error:  4105.766704984189\n",
      "Iteration:  100  Error:  4045.8059681581813\n",
      "Iteration:  200  Error:  3979.848089344102\n",
      "Iteration:  300  Error:  3867.7013835894295\n",
      "Iteration:  400  Error:  3717.4474631764315\n",
      "Iteration:  500  Error:  3541.671015442014\n",
      "Iteration:  600  Error:  3322.713022160657\n",
      "Iteration:  700  Error:  3049.2012542320986\n",
      "Iteration:  800  Error:  2746.7560128396913\n",
      "Iteration:  900  Error:  2446.3304317848456\n",
      "Iteration:  1000  Error:  2168.145727924578\n",
      "Iteration:  1100  Error:  1931.3991172834828\n",
      "Iteration:  1200  Error:  1739.046428737461\n",
      "Iteration:  1300  Error:  1581.4540324965435\n",
      "Iteration:  1400  Error:  1451.7613563851837\n",
      "Iteration:  1500  Error:  1344.704913656256\n",
      "Iteration:  1600  Error:  1253.164865601632\n",
      "Iteration:  1700  Error:  1168.6622548872883\n",
      "Iteration:  1800  Error:  1085.7978654793283\n",
      "Iteration:  1900  Error:  1008.2193367989986\n",
      "Iteration:  2000  Error:  939.9742347378715\n",
      "Iteration:  2100  Error:  881.2606160185128\n",
      "Iteration:  2200  Error:  830.8703017477885\n",
      "Iteration:  2300  Error:  787.3183469957817\n",
      "Iteration:  2400  Error:  749.3069595471645\n",
      "Iteration:  2500  Error:  715.7984029898178\n",
      "Iteration:  2600  Error:  685.9820906177397\n",
      "Iteration:  2700  Error:  659.2255867294144\n",
      "Iteration:  2800  Error:  635.0332690707639\n",
      "Iteration:  2900  Error:  613.0151874443175\n",
      "Iteration:  3000  Error:  592.8616052557719\n",
      "Iteration:  3100  Error:  574.3216638372775\n",
      "Iteration:  3200  Error:  557.1884107516657\n",
      "Iteration:  3300  Error:  541.2911983083538\n",
      "Iteration:  3400  Error:  526.4913566409735\n",
      "Iteration:  3500  Error:  512.6748137321448\n",
      "Iteration:  3600  Error:  499.74161086149644\n",
      "Iteration:  3700  Error:  487.59825555881133\n",
      "Iteration:  3800  Error:  476.1555953440984\n",
      "Iteration:  3900  Error:  465.33055383263206\n",
      "Iteration:  4000  Error:  455.04918710576317\n",
      "Iteration:  4100  Error:  445.24883048012964\n",
      "Iteration:  4200  Error:  435.87800136379167\n",
      "Iteration:  4300  Error:  426.8943084453473\n",
      "Iteration:  4400  Error:  418.2618471420809\n",
      "Iteration:  4500  Error:  409.94932625873247\n",
      "Iteration:  4600  Error:  401.9291637543741\n",
      "Iteration:  4700  Error:  394.177226265125\n",
      "Iteration:  4800  Error:  386.67287058419555\n",
      "Iteration:  4900  Error:  379.3989744044343\n",
      "Iteration:  5000  Error:  372.34153557626433\n",
      "Iteration:  5100  Error:  365.4887094127944\n",
      "Iteration:  5200  Error:  358.82994610020165\n",
      "Iteration:  5300  Error:  352.35587029966507\n",
      "Iteration:  5400  Error:  346.0586647656317\n",
      "Iteration:  5500  Error:  339.9323790633507\n",
      "Iteration:  5600  Error:  333.9726494694351\n",
      "Iteration:  5700  Error:  328.1758832195057\n",
      "Iteration:  5800  Error:  322.5387332779046\n",
      "Iteration:  5900  Error:  317.0580073940586\n",
      "Iteration:  6000  Error:  311.7303613073198\n",
      "Iteration:  6100  Error:  306.55171945902475\n",
      "Iteration:  6200  Error:  301.51690304567524\n",
      "Iteration:  6300  Error:  296.6196921115633\n",
      "Iteration:  6400  Error:  291.8532008239773\n",
      "Iteration:  6500  Error:  287.21037813630625\n",
      "Iteration:  6600  Error:  282.68448890696243\n",
      "Iteration:  6700  Error:  278.2694338587199\n",
      "Iteration:  6800  Error:  273.95976935778907\n",
      "Iteration:  6900  Error:  269.7504268640789\n",
      "Iteration:  7000  Error:  265.63644982019434\n",
      "Iteration:  7100  Error:  261.6131625670718\n",
      "Iteration:  7200  Error:  257.6766999538255\n",
      "Iteration:  7300  Error:  253.82441507899102\n",
      "Iteration:  7400  Error:  250.0550554093464\n",
      "Iteration:  7500  Error:  246.3690221175641\n",
      "Iteration:  7600  Error:  242.7682656581504\n",
      "Iteration:  7700  Error:  239.25459256003757\n",
      "Iteration:  7800  Error:  235.8273107907952\n",
      "Iteration:  7900  Error:  232.4828005991733\n",
      "Iteration:  8000  Error:  229.21585802578156\n",
      "Iteration:  8100  Error:  226.02132379944874\n",
      "Iteration:  8200  Error:  222.89568265812107\n",
      "Iteration:  8300  Error:  219.8383870062979\n",
      "Iteration:  8400  Error:  216.8516285052654\n",
      "Iteration:  8500  Error:  213.93797018380792\n",
      "Iteration:  8600  Error:  211.09809383562023\n",
      "Iteration:  8700  Error:  208.33058593557732\n",
      "Iteration:  8800  Error:  205.6327851346829\n",
      "Iteration:  8900  Error:  203.00147508225655\n",
      "Iteration:  9000  Error:  200.43327409997963\n",
      "Iteration:  9100  Error:  197.9248764661786\n",
      "Iteration:  9200  Error:  195.47321686632282\n",
      "Iteration:  9300  Error:  193.07557662612072\n",
      "Iteration:  9400  Error:  190.729642365237\n",
      "Iteration:  9500  Error:  188.43352193878405\n",
      "Iteration:  9600  Error:  186.18570978318968\n",
      "Iteration:  9700  Error:  183.98498238110938\n",
      "Iteration:  9800  Error:  181.83020638815464\n",
      "Iteration:  9900  Error:  179.72007007845497\n",
      "Iteration:  10000  Error:  177.652803430796\n",
      "Iteration:  10100  Error:  175.6259939702138\n",
      "Iteration:  10200  Error:  173.63658037176492\n",
      "Iteration:  10300  Error:  171.68102506187284\n",
      "Iteration:  10400  Error:  169.75560285255074\n",
      "Iteration:  10500  Error:  167.85673186905666\n",
      "Iteration:  10600  Error:  165.9812957563125\n",
      "Iteration:  10700  Error:  164.12694137544418\n",
      "Iteration:  10800  Error:  162.29235652777004\n",
      "Iteration:  10900  Error:  160.47746755948629\n",
      "Iteration:  11000  Error:  158.6833679577229\n",
      "Iteration:  11100  Error:  156.91186065147915\n",
      "Iteration:  11200  Error:  155.1648477835887\n",
      "Iteration:  11300  Error:  153.44393145816372\n",
      "Iteration:  11400  Error:  151.7502803490247\n",
      "Iteration:  11500  Error:  150.08457683989067\n",
      "Iteration:  11600  Error:  148.44693750228384\n",
      "Iteration:  11700  Error:  146.83683652890454\n",
      "Iteration:  11800  Error:  145.25307650953783\n",
      "Iteration:  11900  Error:  143.69379849862466\n",
      "Iteration:  12000  Error:  142.15648939664857\n",
      "Iteration:  12100  Error:  140.63794483645674\n",
      "Iteration:  12200  Error:  139.13418306776498\n",
      "Iteration:  12300  Error:  137.64048225126254\n",
      "Iteration:  12400  Error:  136.15235612761265\n",
      "Iteration:  12500  Error:  134.66925017122458\n",
      "Iteration:  12600  Error:  133.19910634759162\n",
      "Iteration:  12700  Error:  131.75218865360665\n",
      "Iteration:  12800  Error:  130.32943670601406\n",
      "Iteration:  12900  Error:  128.92546826881429\n",
      "Iteration:  13000  Error:  127.5367262931495\n",
      "Iteration:  13100  Error:  126.16480452701141\n",
      "Iteration:  13200  Error:  124.81427178485362\n",
      "Iteration:  13300  Error:  123.48853674375887\n",
      "Iteration:  13400  Error:  122.18891808501226\n",
      "Iteration:  13500  Error:  120.91564545476167\n",
      "Iteration:  13600  Error:  119.6685359145596\n",
      "Iteration:  13700  Error:  118.44719856415666\n",
      "Iteration:  13800  Error:  117.25106677872141\n",
      "Iteration:  13900  Error:  116.07939455920852\n",
      "Iteration:  14000  Error:  114.9312525331623\n",
      "Iteration:  14100  Error:  113.80553459481854\n",
      "Iteration:  14200  Error:  112.7009818692706\n",
      "Iteration:  14300  Error:  111.61622369405896\n",
      "Iteration:  14400  Error:  110.54982527387612\n",
      "Iteration:  14500  Error:  109.50032482198871\n",
      "Iteration:  14600  Error:  108.4662440735618\n",
      "Iteration:  14700  Error:  107.44606624184965\n",
      "Iteration:  14800  Error:  106.43819281695298\n",
      "Iteration:  14900  Error:  105.44091086012791\n",
      "The confusion matrix is:\n",
      "[[ 82.   0.   0.   1.   0.   1.   3.   0.   0.   0.]\n",
      " [  0. 125.   0.   0.   0.   0.   0.   2.   0.   0.]\n",
      " [  0.   1. 100.   2.   1.   1.   2.   3.   3.   0.]\n",
      " [  0.   0.   1.  97.   0.   3.   1.   1.   3.   0.]\n",
      " [  0.   0.   1.   0. 100.   0.   0.   0.   2.   3.]\n",
      " [  1.   0.   0.   5.   0.  76.   1.   0.   1.   0.]\n",
      " [  2.   0.   1.   0.   1.   1.  80.   0.   0.   0.]\n",
      " [  0.   0.   5.   1.   1.   1.   0.  90.   2.   0.]\n",
      " [  0.   0.   8.   1.   1.   3.   0.   1.  78.   2.]\n",
      " [  0.   0.   0.   0.   6.   1.   0.   2.   0.  89.]]\n",
      "The accuracy is  91.7\n"
     ]
    },
    {
     "data": {
      "text/plain": [
       "array([[ 82.,   0.,   0.,   1.,   0.,   1.,   3.,   0.,   0.,   0.],\n",
       "       [  0., 125.,   0.,   0.,   0.,   0.,   0.,   2.,   0.,   0.],\n",
       "       [  0.,   1., 100.,   2.,   1.,   1.,   2.,   3.,   3.,   0.],\n",
       "       [  0.,   0.,   1.,  97.,   0.,   3.,   1.,   1.,   3.,   0.],\n",
       "       [  0.,   0.,   1.,   0., 100.,   0.,   0.,   0.,   2.,   3.],\n",
       "       [  1.,   0.,   0.,   5.,   0.,  76.,   1.,   0.,   1.,   0.],\n",
       "       [  2.,   0.,   1.,   0.,   1.,   1.,  80.,   0.,   0.,   0.],\n",
       "       [  0.,   0.,   5.,   1.,   1.,   1.,   0.,  90.,   2.,   0.],\n",
       "       [  0.,   0.,   8.,   1.,   1.,   3.,   0.,   1.,  78.,   2.],\n",
       "       [  0.,   0.,   0.,   0.,   6.,   1.,   0.,   2.,   0.,  89.]])"
      ]
     },
     "execution_count": 53,
     "metadata": {},
     "output_type": "execute_result"
    }
   ],
   "source": [
    "best_sizes = [784,30,30,10]\n",
    "best_beta = 5\n",
    "best_momentum = 0.9\n",
    "best_lr = 0.01 # best learning rate\n",
    "best_niterations = 15000\n",
    "best_classifier = MLP(sizes = best_sizes, beta=best_beta, momentum=best_momentum)\n",
    "best_classifier.train(train_in, train_tgt, best_lr, best_niterations)\n",
    "best_classifier.evaluate(test_in, test_tgt)"
   ]
  },
  {
   "cell_type": "code",
   "execution_count": 54,
   "metadata": {},
   "outputs": [],
   "source": [
    "# TODO: run the following code to save the best parameters and \n",
    "# the weights of the network that achieves the desired accuracy\n",
    "best_parameters = {\n",
    "    'sizes': best_sizes,\n",
    "    'beta': best_beta,\n",
    "    'momentum': best_momentum,\n",
    "    'lr': best_lr,\n",
    "    'niterations': best_niterations,\n",
    "    'weights_1': best_classifier.weights1,\n",
    "    'weights_2': best_classifier.weights2,\n",
    "    'weights_3': best_classifier.weights3,\n",
    "}\n",
    "\n",
    "with open('best_classifier.pkl', 'wb') as handle:\n",
    "    pickle.dump(best_parameters, handle, protocol=pickle.HIGHEST_PROTOCOL)"
   ]
  }
 ],
 "metadata": {
  "kernelspec": {
   "display_name": "Python 3",
   "language": "python",
   "name": "python3"
  },
  "language_info": {
   "codemirror_mode": {
    "name": "ipython",
    "version": 3
   },
   "file_extension": ".py",
   "mimetype": "text/x-python",
   "name": "python",
   "nbconvert_exporter": "python",
   "pygments_lexer": "ipython3",
   "version": "3.8.5"
  }
 },
 "nbformat": 4,
 "nbformat_minor": 4
}
